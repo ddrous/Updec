{
 "cells": [
  {
   "attachments": {},
   "cell_type": "markdown",
   "metadata": {},
   "source": [
    "# The Laplace Problem"
   ]
  },
  {
   "cell_type": "code",
   "execution_count": 1,
   "metadata": {},
   "outputs": [],
   "source": [
    "%reset -f"
   ]
  },
  {
   "cell_type": "code",
   "execution_count": 2,
   "metadata": {},
   "outputs": [],
   "source": [
    "import os\n",
    "os.environ['XLA_PYTHON_CLIENT_PREALLOCATE'] = \"false\"\n",
    "\n",
    "import numpy as np\n",
    "import jax\n",
    "import jax.numpy as jnp\n",
    "jax.config.update('jax_platform_name', 'cpu')           ## CPU is faster here !\n",
    "\n",
    "import matplotlib.pyplot as plt\n",
    "import seaborn as sns\n",
    "sns.set(context='notebook', style='ticks',\n",
    "        font='sans-serif', font_scale=1, color_codes=True, rc={\"lines.linewidth\": 2})\n",
    "\n",
    "from updec import *\n",
    "# from updec.cloud import SquareCloud, GmshCloud\n",
    "# from updec.operators import *\n",
    "# from updec.utils import print_line_by_line, polyharmonic, multiquadric"
   ]
  },
  {
   "attachments": {},
   "cell_type": "markdown",
   "metadata": {},
   "source": [
    "## Using Updec"
   ]
  },
  {
   "cell_type": "code",
   "execution_count": 3,
   "metadata": {},
   "outputs": [
    {
     "data": {
      "image/png": "[encoded data removed]",
      "text/plain": [
       "<Figure size 600x400 with 1 Axes>"
      ]
     },
     "metadata": {},
     "output_type": "display_data"
    }
   ],
   "source": [
    "# facet_types = {\"south\":\"d\", \"west\":\"d\", \"north\":\"d\", \"east\":\"d\"}\n",
    "# facet_types = {\"Dirichlet\":\"d\", \"Robin\":\"d\", \"Neumann\":\"d\"}\n",
    "facet_types = {\"inlet\":\"d\", \"wall\":\"d\", \"blowing\":\"d\", \"outlet\":\"n\", \"suction\":\"d\"}\n",
    "\n",
    "# cloud = SquareCloud(Nx=7, Ny=5, facet_types=facet_types, support_size=3)\n",
    "# cloud = GmshCloud(\"./meshes/triangle.msh\", facet_types, support_size=3)\n",
    "cloud = GmshCloud(\"./meshes/channel.msh\", facet_types, support_size=3)\n",
    "\n",
    "cloud.visualize_cloud(figsize=(6,4));"
   ]
  },
  {
   "cell_type": "code",
   "execution_count": 4,
   "metadata": {},
   "outputs": [],
   "source": [
    "RBF = polyharmonic      ## Can define which rbf to use\n",
    "MAX_DEGREE = 2"
   ]
  },
  {
   "cell_type": "code",
   "execution_count": 5,
   "metadata": {},
   "outputs": [],
   "source": [
    "# ## Operates on radial basis functions and polynomials at position x: don't forget the None. It is important!\n",
    "# # @jax.jit\n",
    "# # @partial(jax.jit, static_argnums=2)\n",
    "# def my_diff_operator(x, node=None, monomial=None, *args):\n",
    "#     return  args[0] * nodal_laplacian(x, node, monomial, rbf=RBF) / args[1]\n",
    "\n",
    "# minus_ones = -jnp.ones((cloud.N,))\n",
    "# ones = jnp.ones((cloud.N,))\n",
    "# ## Operates on entire fields at position x (inside node)\n",
    "# # @jax.jit\n",
    "# def my_rhs_operator(x):\n",
    "#     # return divergence(x, known_field, cloud, rbf=RBF, max_degree=2)\n",
    "#     # return 2.0\n",
    "#     return 1.0\n",
    "\n",
    "# d_north = lambda node: jnp.sin(jnp.pi * node[0])\n",
    "# d_zero = lambda node: 0.0\n",
    "\n",
    "# # boundary_conditions = {0:d_zero, 1:d_zero, 2:d_zero, 3:d_zero}\n",
    "# boundary_conditions = {\"inlet\":d_north, \"wall\":d_zero, \"blowing\":d_zero, \"outlet\":d_zero, \"suction\":d_zero}\n",
    "\n",
    "# # solution_field = pde_solver(my_diff_operator, my_rhs_operator, cloud, boundary_conditions, RBF, MAX_DEGREE, minus_ones, ones)\n",
    "# # cloud.visualize_field(solution_field, cmap=\"viridis\", projection=\"2d\", ax=None, figsize=(6,5));"
   ]
  },
  {
   "cell_type": "code",
   "execution_count": 6,
   "metadata": {},
   "outputs": [],
   "source": [
    "d_north = lambda node: jnp.sin(jnp.pi * node[0])\n",
    "d_zero = lambda node: 0.0\n",
    "\n",
    "boundary_conditions = {\"inlet\":d_north, \"wall\":d_zero, \"blowing\":d_zero, \"outlet\":d_zero, \"suction\":d_zero}"
   ]
  },
  {
   "cell_type": "code",
   "execution_count": 12,
   "metadata": {},
   "outputs": [],
   "source": [
    "u = jnp.ones((cloud.N,))\n",
    "v = jnp.ones((cloud.N,))\n",
    "p = jnp.ones((cloud.N,))\n",
    "RHO = 1\n",
    "NU = 1\n",
    "\n",
    "def diff_operator_u(x, node=None, monomial=None, *args):\n",
    "    u_val = nodal_value(x, node, monomial, rbf=RBF)\n",
    "    grad_u = nodal_gradient(x, node, monomial, rbf=RBF)\n",
    "    return  u_val * grad_u[0] + args[0]*grad_u[1]\n",
    "\n",
    "def rhs_operator_u(x):\n",
    "    grad_p = gradient(x, p, cloud, rbf=RBF, max_degree=MAX_DEGREE)\n",
    "    lap_u = laplacian(x, u, cloud, rbf=RBF, max_degree=MAX_DEGREE)\n",
    "    return  (-grad_p[0] / RHO) + (NU * lap_u)\n",
    "\n",
    "u = pde_solver(diff_operator_u, rhs_operator_u, cloud, boundary_conditions, RBF, MAX_DEGREE, v)"
   ]
  },
  {
   "cell_type": "code",
   "execution_count": 8,
   "metadata": {},
   "outputs": [],
   "source": [
    "# def diff_operator_v(x, node=None, monomial=None, *args):\n",
    "#     val_v = nodal_value(x, node, monomial, rbf=RBF)\n",
    "#     grad_v = nodal_gradient(x, node, monomial, rbf=RBF)\n",
    "#     return  val_v * grad_v[1] + args[0]*grad_v[0]\n",
    "\n",
    "# def rhs_operator_v(x):\n",
    "#     grad_p = gradient(x, p, cloud, rbf=RBF, max_degree=MAX_DEGREE)\n",
    "#     lap_v = laplacian(x, v, cloud, rbf=RBF, max_degree=MAX_DEGREE)\n",
    "#     return  (-grad_p[0] / RHO) + (NU * lap_v)\n",
    "\n",
    "# v = pde_solver(diff_operator_v, rhs_operator_v, cloud, boundary_conditions, RBF, MAX_DEGREE, u)"
   ]
  },
  {
   "cell_type": "code",
   "execution_count": 9,
   "metadata": {},
   "outputs": [],
   "source": [
    "# def diff_operator_p(x, node=None, monomial=None, *args):\n",
    "#     return  nodal_laplacian(x, node, monomial, rbf=RBF)\n",
    "\n",
    "# def rhs_operator_p(x):\n",
    "#     grad_u = gradient(x, u, cloud, rbf=RBF, max_degree=MAX_DEGREE)\n",
    "#     grad_v = gradient(x, v, cloud, rbf=RBF, max_degree=MAX_DEGREE)\n",
    "#     return  -RHO * (grad_u[0]*grad_u[0] + 2*grad_u[1]*grad_v[0] + grad_v[1]*grad_v[1])\n",
    "\n",
    "# p = pde_solver(diff_operator_p, rhs_operator_p, cloud, boundary_conditions, RBF, MAX_DEGREE)"
   ]
  },
  {
   "cell_type": "code",
   "execution_count": 10,
   "metadata": {},
   "outputs": [
    {
     "data": {
      "text/plain": [
       "DeviceArray([nan, nan, nan, nan, nan, nan, nan, nan, nan, nan, nan, nan,\n",
       "             nan, nan, nan, nan, nan, nan, nan, nan, nan, nan, nan, nan,\n",
       "             nan, nan, nan, nan, nan, nan, nan, nan, nan, nan, nan, nan,\n",
       "             nan, nan, nan, nan, nan, nan, nan, nan, nan, nan, nan, nan,\n",
       "             nan, nan, nan, nan, nan, nan, nan, nan, nan, nan, nan, nan,\n",
       "             nan, nan, nan, nan, nan, nan, nan, nan, nan, nan, nan, nan,\n",
       "             nan, nan, nan, nan, nan, nan, nan, nan, nan, nan, nan, nan,\n",
       "             nan, nan, nan, nan, nan, nan, nan, nan, nan, nan, nan, nan,\n",
       "             nan, nan, nan, nan, nan, nan, nan, nan, nan, nan, nan, nan,\n",
       "             nan, nan, nan, nan, nan, nan, nan, nan, nan, nan, nan, nan,\n",
       "             nan, nan, nan, nan, nan, nan, nan, nan, nan, nan, nan, nan,\n",
       "             nan, nan, nan, nan, nan, nan, nan, nan, nan, nan, nan, nan,\n",
       "             nan, nan, nan, nan, nan, nan, nan, nan, nan, nan, nan, nan,\n",
       "             nan, nan, nan, nan, nan, nan, nan], dtype=float32)"
      ]
     },
     "execution_count": 10,
     "metadata": {},
     "output_type": "execute_result"
    }
   ],
   "source": [
    "u"
   ]
  },
  {
   "cell_type": "code",
   "execution_count": 11,
   "metadata": {},
   "outputs": [
    {
     "ename": "ValueError",
     "evalue": "z array must not contain non-finite values within the triangulation",
     "output_type": "error",
     "traceback": [
      "\u001b[0;31m---------------------------------------------------------------------------\u001b[0m",
      "\u001b[0;31mValueError\u001b[0m                                Traceback (most recent call last)",
      "Cell \u001b[0;32mIn [11], line 1\u001b[0m\n\u001b[0;32m----> 1\u001b[0m cloud\u001b[39m.\u001b[39;49mvisualize_field(u, cmap\u001b[39m=\u001b[39;49m\u001b[39m\"\u001b[39;49m\u001b[39mviridis\u001b[39;49m\u001b[39m\"\u001b[39;49m, projection\u001b[39m=\u001b[39;49m\u001b[39m\"\u001b[39;49m\u001b[39m2d\u001b[39;49m\u001b[39m\"\u001b[39;49m, ax\u001b[39m=\u001b[39;49m\u001b[39mNone\u001b[39;49;00m, figsize\u001b[39m=\u001b[39;49m(\u001b[39m6\u001b[39;49m,\u001b[39m5\u001b[39;49m))\n",
      "File \u001b[0;32m~/Projects/Updec/updec/cloud.py:149\u001b[0m, in \u001b[0;36mCloud.visualize_field\u001b[0;34m(self, field, projection, levels, ax, figsize, **kwargs)\u001b[0m\n\u001b[1;32m    140\u001b[0m     ax \u001b[39m=\u001b[39m fig\u001b[39m.\u001b[39madd_subplot(\u001b[39m1\u001b[39m, \u001b[39m1\u001b[39m, \u001b[39m1\u001b[39m)\n\u001b[1;32m    141\u001b[0m     \u001b[39m# img = ax.scatter(x=coords[:, 0], y=coords[:, 1], c=field, **kwargs)\u001b[39;00m\n\u001b[1;32m    142\u001b[0m     \u001b[39m# fig.colorbar(img)\u001b[39;00m\n\u001b[1;32m    143\u001b[0m \n\u001b[0;32m   (...)\u001b[0m\n\u001b[1;32m    146\u001b[0m     \u001b[39m# ax.set_ylim([y.min(), y.max()])\u001b[39;00m\n\u001b[1;32m    147\u001b[0m     \u001b[39m# fig.colorbar(img)\u001b[39;00m\n\u001b[0;32m--> 149\u001b[0m     img \u001b[39m=\u001b[39m ax\u001b[39m.\u001b[39;49mtricontourf(x, y, field, levels\u001b[39m=\u001b[39;49mlevels, \u001b[39m*\u001b[39;49m\u001b[39m*\u001b[39;49mkwargs)\n\u001b[1;32m    150\u001b[0m     fig\u001b[39m.\u001b[39mcolorbar(img)\n\u001b[1;32m    152\u001b[0m \u001b[39melif\u001b[39;00m projection \u001b[39m==\u001b[39m \u001b[39m\"\u001b[39m\u001b[39m3d\u001b[39m\u001b[39m\"\u001b[39m:\n",
      "File \u001b[0;32m~/miniforge3/envs/jaxenv/lib/python3.10/site-packages/matplotlib/tri/tricontour.py:307\u001b[0m, in \u001b[0;36mtricontourf\u001b[0;34m(ax, *args, **kwargs)\u001b[0m\n\u001b[1;32m    287\u001b[0m \u001b[39m\"\"\"\u001b[39;00m\n\u001b[1;32m    288\u001b[0m \u001b[39m%(_tricontour_doc)s\u001b[39;00m\n\u001b[1;32m    289\u001b[0m \n\u001b[0;32m   (...)\u001b[0m\n\u001b[1;32m    304\u001b[0m \u001b[39mincludes the lowest value).\u001b[39;00m\n\u001b[1;32m    305\u001b[0m \u001b[39m\"\"\"\u001b[39;00m\n\u001b[1;32m    306\u001b[0m kwargs[\u001b[39m'\u001b[39m\u001b[39mfilled\u001b[39m\u001b[39m'\u001b[39m] \u001b[39m=\u001b[39m \u001b[39mTrue\u001b[39;00m\n\u001b[0;32m--> 307\u001b[0m \u001b[39mreturn\u001b[39;00m TriContourSet(ax, \u001b[39m*\u001b[39;49margs, \u001b[39m*\u001b[39;49m\u001b[39m*\u001b[39;49mkwargs)\n",
      "File \u001b[0;32m~/miniforge3/envs/jaxenv/lib/python3.10/site-packages/matplotlib/tri/tricontour.py:29\u001b[0m, in \u001b[0;36mTriContourSet.__init__\u001b[0;34m(self, ax, *args, **kwargs)\u001b[0m\n\u001b[1;32m     19\u001b[0m \u001b[39mdef\u001b[39;00m \u001b[39m__init__\u001b[39m(\u001b[39mself\u001b[39m, ax, \u001b[39m*\u001b[39margs, \u001b[39m*\u001b[39m\u001b[39m*\u001b[39mkwargs):\n\u001b[1;32m     20\u001b[0m     \u001b[39m\"\"\"\u001b[39;00m\n\u001b[1;32m     21\u001b[0m \u001b[39m    Draw triangular grid contour lines or filled regions,\u001b[39;00m\n\u001b[1;32m     22\u001b[0m \u001b[39m    depending on whether keyword arg 'filled' is False\u001b[39;00m\n\u001b[0;32m   (...)\u001b[0m\n\u001b[1;32m     27\u001b[0m \u001b[39m    are described in the docstring of `~.Axes.tricontour`.\u001b[39;00m\n\u001b[1;32m     28\u001b[0m \u001b[39m    \"\"\"\u001b[39;00m\n\u001b[0;32m---> 29\u001b[0m     \u001b[39msuper\u001b[39;49m()\u001b[39m.\u001b[39;49m\u001b[39m__init__\u001b[39;49m(ax, \u001b[39m*\u001b[39;49margs, \u001b[39m*\u001b[39;49m\u001b[39m*\u001b[39;49mkwargs)\n",
      "File \u001b[0;32m~/miniforge3/envs/jaxenv/lib/python3.10/site-packages/matplotlib/contour.py:812\u001b[0m, in \u001b[0;36mContourSet.__init__\u001b[0;34m(self, ax, levels, filled, linewidths, linestyles, hatches, alpha, origin, extent, cmap, colors, norm, vmin, vmax, extend, antialiased, nchunk, locator, transform, *args, **kwargs)\u001b[0m\n\u001b[1;32m    808\u001b[0m     \u001b[39mself\u001b[39m\u001b[39m.\u001b[39morigin \u001b[39m=\u001b[39m mpl\u001b[39m.\u001b[39mrcParams[\u001b[39m'\u001b[39m\u001b[39mimage.origin\u001b[39m\u001b[39m'\u001b[39m]\n\u001b[1;32m    810\u001b[0m \u001b[39mself\u001b[39m\u001b[39m.\u001b[39m_transform \u001b[39m=\u001b[39m transform\n\u001b[0;32m--> 812\u001b[0m kwargs \u001b[39m=\u001b[39m \u001b[39mself\u001b[39;49m\u001b[39m.\u001b[39;49m_process_args(\u001b[39m*\u001b[39;49margs, \u001b[39m*\u001b[39;49m\u001b[39m*\u001b[39;49mkwargs)\n\u001b[1;32m    813\u001b[0m \u001b[39mself\u001b[39m\u001b[39m.\u001b[39m_process_levels()\n\u001b[1;32m    815\u001b[0m \u001b[39mself\u001b[39m\u001b[39m.\u001b[39m_extend_min \u001b[39m=\u001b[39m \u001b[39mself\u001b[39m\u001b[39m.\u001b[39mextend \u001b[39min\u001b[39;00m [\u001b[39m'\u001b[39m\u001b[39mmin\u001b[39m\u001b[39m'\u001b[39m, \u001b[39m'\u001b[39m\u001b[39mboth\u001b[39m\u001b[39m'\u001b[39m]\n",
      "File \u001b[0;32m~/miniforge3/envs/jaxenv/lib/python3.10/site-packages/matplotlib/tri/tricontour.py:45\u001b[0m, in \u001b[0;36mTriContourSet._process_args\u001b[0;34m(self, *args, **kwargs)\u001b[0m\n\u001b[1;32m     43\u001b[0m \u001b[39melse\u001b[39;00m:\n\u001b[1;32m     44\u001b[0m     \u001b[39mfrom\u001b[39;00m \u001b[39mmatplotlib\u001b[39;00m \u001b[39mimport\u001b[39;00m _tri\n\u001b[0;32m---> 45\u001b[0m     tri, z \u001b[39m=\u001b[39m \u001b[39mself\u001b[39;49m\u001b[39m.\u001b[39;49m_contour_args(args, kwargs)\n\u001b[1;32m     46\u001b[0m     C \u001b[39m=\u001b[39m _tri\u001b[39m.\u001b[39mTriContourGenerator(tri\u001b[39m.\u001b[39mget_cpp_triangulation(), z)\n\u001b[1;32m     47\u001b[0m     \u001b[39mself\u001b[39m\u001b[39m.\u001b[39m_mins \u001b[39m=\u001b[39m [tri\u001b[39m.\u001b[39mx\u001b[39m.\u001b[39mmin(), tri\u001b[39m.\u001b[39my\u001b[39m.\u001b[39mmin()]\n",
      "File \u001b[0;32m~/miniforge3/envs/jaxenv/lib/python3.10/site-packages/matplotlib/tri/tricontour.py:72\u001b[0m, in \u001b[0;36mTriContourSet._contour_args\u001b[0;34m(self, args, kwargs)\u001b[0m\n\u001b[1;32m     69\u001b[0m     \u001b[39mraise\u001b[39;00m \u001b[39mValueError\u001b[39;00m(\u001b[39m'\u001b[39m\u001b[39mz must not contain masked points within the \u001b[39m\u001b[39m'\u001b[39m\n\u001b[1;32m     70\u001b[0m                      \u001b[39m'\u001b[39m\u001b[39mtriangulation\u001b[39m\u001b[39m'\u001b[39m)\n\u001b[1;32m     71\u001b[0m \u001b[39mif\u001b[39;00m \u001b[39mnot\u001b[39;00m np\u001b[39m.\u001b[39misfinite(z_check)\u001b[39m.\u001b[39mall():\n\u001b[0;32m---> 72\u001b[0m     \u001b[39mraise\u001b[39;00m \u001b[39mValueError\u001b[39;00m(\u001b[39m'\u001b[39m\u001b[39mz array must not contain non-finite values \u001b[39m\u001b[39m'\u001b[39m\n\u001b[1;32m     73\u001b[0m                      \u001b[39m'\u001b[39m\u001b[39mwithin the triangulation\u001b[39m\u001b[39m'\u001b[39m)\n\u001b[1;32m     75\u001b[0m z \u001b[39m=\u001b[39m np\u001b[39m.\u001b[39mma\u001b[39m.\u001b[39mmasked_invalid(z, copy\u001b[39m=\u001b[39m\u001b[39mFalse\u001b[39;00m)\n\u001b[1;32m     76\u001b[0m \u001b[39mself\u001b[39m\u001b[39m.\u001b[39mzmax \u001b[39m=\u001b[39m \u001b[39mfloat\u001b[39m(z_check\u001b[39m.\u001b[39mmax())\n",
      "\u001b[0;31mValueError\u001b[0m: z array must not contain non-finite values within the triangulation"
     ]
    },
    {
     "data": {
      "image/png": "[encoded data removed]",
      "text/plain": [
       "<Figure size 600x500 with 1 Axes>"
      ]
     },
     "metadata": {},
     "output_type": "display_data"
    }
   ],
   "source": [
    "cloud.visualize_field(u, cmap=\"viridis\", projection=\"2d\", ax=None, figsize=(6,5));"
   ]
  }
 ],
 "metadata": {
  "kernelspec": {
   "display_name": "jaxenv",
   "language": "python",
   "name": "python3"
  },
  "language_info": {
   "codemirror_mode": {
    "name": "ipython",
    "version": 3
   },
   "file_extension": ".py",
   "mimetype": "text/x-python",
   "name": "python",
   "nbconvert_exporter": "python",
   "pygments_lexer": "ipython3",
   "version": "3.10.8"
  },
  "orig_nbformat": 4,
  "vscode": {
   "interpreter": {
    "hash": "8172ebf40a1b5495b14df1ebdc40c339972f6d826997aae164f4bf169121d865"
   }
  }
 },
 "nbformat": 4,
 "nbformat_minor": 2
}
