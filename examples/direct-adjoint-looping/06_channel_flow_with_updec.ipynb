{
 "cells": [
  {
   "attachments": {},
   "cell_type": "markdown",
   "metadata": {},
   "source": [
    "# The Laplace Problem"
   ]
  },
  {
   "cell_type": "code",
   "execution_count": 1,
   "metadata": {},
   "outputs": [],
   "source": [
    "%reset -f"
   ]
  },
  {
   "cell_type": "code",
   "execution_count": 2,
   "metadata": {},
   "outputs": [],
   "source": [
    "import os\n",
    "os.environ['XLA_PYTHON_CLIENT_PREALLOCATE'] = \"false\"\n",
    "\n",
    "import numpy as np\n",
    "import jax\n",
    "import jax.numpy as jnp\n",
    "jax.config.update('jax_platform_name', 'cpu')           ## CPU is faster here !\n",
    "\n",
    "import matplotlib.pyplot as plt\n",
    "import seaborn as sns\n",
    "sns.set(context='notebook', style='ticks',\n",
    "        font='sans-serif', font_scale=1, color_codes=True, rc={\"lines.linewidth\": 2})\n",
    "\n",
    "from updec.cloud import SquareCloud, GmshCloud\n",
    "from updec.operators import *\n",
    "from updec.utils import print_line_by_line, polyharmonic, multiquadric"
   ]
  },
  {
   "attachments": {},
   "cell_type": "markdown",
   "metadata": {},
   "source": [
    "## Using Updec"
   ]
  },
  {
   "cell_type": "code",
   "execution_count": 9,
   "metadata": {},
   "outputs": [
    {
     "data": {
      "image/png": "[encoded data removed]",
      "text/plain": [
       "<Figure size 600x400 with 1 Axes>"
      ]
     },
     "metadata": {},
     "output_type": "display_data"
    }
   ],
   "source": [
    "# facet_types = {\"south\":\"d\", \"west\":\"d\", \"north\":\"d\", \"east\":\"d\"}\n",
    "# facet_types = {\"Dirichlet\":\"d\", \"Robin\":\"d\", \"Neumann\":\"d\"}\n",
    "facet_types = {\"inlet\":\"d\", \"wall\":\"d\", \"blowing\":\"d\", \"outlet\":\"n\", \"suction\":\"d\"}\n",
    "\n",
    "# cloud = SquareCloud(Nx=7, Ny=5, facet_types=facet_types, support_size=3)\n",
    "# cloud = GmshCloud(\"./meshes/triangle.msh\", facet_types, support_size=3)\n",
    "cloud = GmshCloud(\"./meshes/channel.msh\", facet_types, support_size=3)\n",
    "\n",
    "cloud.visualize_cloud(figsize=(6,4));"
   ]
  },
  {
   "cell_type": "code",
   "execution_count": null,
   "metadata": {},
   "outputs": [],
   "source": [
    "RBF = polyharmonic      ## Can define which rbf to use\n",
    "MAX_DEGREE = 2"
   ]
  },
  {
   "cell_type": "code",
   "execution_count": null,
   "metadata": {},
   "outputs": [],
   "source": [
    "## Operates on radial basis functions and polynomials at position x: don't forget the None. It is important!\n",
    "# @jax.jit\n",
    "# @partial(jax.jit, static_argnums=2)\n",
    "def my_diff_operator(x, node=None, monomial=None, *args):\n",
    "    return  args[0] * nodal_laplacian(x, node, monomial, rbf=RBF) / args[1]\n",
    "\n",
    "minus_ones = -jnp.ones((cloud.N,))\n",
    "ones = jnp.ones((cloud.N,))\n",
    "## Operates on entire fields at position x (inside node)\n",
    "# @jax.jit\n",
    "def my_rhs_operator(x):\n",
    "    # return divergence(x, known_field, cloud, rbf=RBF, max_degree=2)\n",
    "    # return 2.0\n",
    "    return 1.0\n",
    "\n",
    "# d_func = lambda node: 1.0\n",
    "# n_func = lambda node: 1.0\n",
    "\n",
    "d_north = lambda node: jnp.sin(jnp.pi * node[0])\n",
    "d_zero = lambda node: 0.0\n",
    "\n",
    "boundary_conditions = {0:d_zero, 1:d_zero, 2:d_zero, 3:d_zero}\n",
    "# boundary_conditions = {\"inlet\":d_north, \"wall\":d_zero, \"blowing\":d_zero, \"outlet\":d_zero, \"suction\":d_zero}\n",
    "\n",
    "# solution_field = pde_solver(my_diff_operator, my_rhs_operator, cloud, boundary_conditions, RBF, MAX_DEGREE, minus_ones, ones)\n",
    "# cloud.visualize_field(solution_field, cmap=\"viridis\", projection=\"2d\", ax=None, figsize=(6,5));"
   ]
  },
  {
   "cell_type": "code",
   "execution_count": null,
   "metadata": {},
   "outputs": [
    {
     "name": "stdout",
     "output_type": "stream",
     "text": [
      "Unexpected exception formatting exception. Falling back to standard exception\n"
     ]
    },
    {
     "name": "stderr",
     "output_type": "stream",
     "text": [
      "Traceback (most recent call last):\n",
      "  File \"c:\\Users\\rouss\\miniconda3\\envs\\tf\\lib\\site-packages\\IPython\\core\\interactiveshell.py\", line 3433, in run_code\n",
      "    exec(code_obj, self.user_global_ns, self.user_ns)\n",
      "  File \"C:\\Users\\rouss\\AppData\\Local\\Temp\\ipykernel_23232\\1857410623.py\", line 17, in <module>\n",
      "    u = pde_solver(diff_operator_u, rhs_operator_u, cloud, boundary_conditions, RBF, MAX_DEGREE, v)\n",
      "  File \"c:\\users\\rouss\\projects\\updec\\updec\\operators.py\", line 138, in pde_solver\n",
      "  File \"c:\\users\\rouss\\projects\\updec\\updec\\assembly.py\", line 151, in assemble_q\n",
      "    q = q.at[i].set(operator(cloud.nodes[i]))\n",
      "  File \"c:\\Users\\rouss\\miniconda3\\envs\\tf\\lib\\site-packages\\jax\\_src\\traceback_util.py\", line 162, in reraise_with_filtered_traceback\n",
      "    return fun(*args, **kwargs)\n",
      "  File \"c:\\Users\\rouss\\miniconda3\\envs\\tf\\lib\\site-packages\\jax\\_src\\api.py\", line 522, in cache_miss\n",
      "    out_flat = xla.xla_call(\n",
      "  File \"c:\\Users\\rouss\\miniconda3\\envs\\tf\\lib\\site-packages\\jax\\core.py\", line 1836, in bind\n",
      "    return call_bind(self, fun, *args, **params)\n",
      "  File \"c:\\Users\\rouss\\miniconda3\\envs\\tf\\lib\\site-packages\\jax\\core.py\", line 1852, in call_bind\n",
      "    outs = top_trace.process_call(primitive, fun_, tracers, params)\n",
      "  File \"c:\\Users\\rouss\\miniconda3\\envs\\tf\\lib\\site-packages\\jax\\core.py\", line 683, in process_call\n",
      "    return primitive.impl(f, *tracers, **params)\n",
      "  File \"c:\\Users\\rouss\\miniconda3\\envs\\tf\\lib\\site-packages\\jax\\_src\\dispatch.py\", line 196, in _xla_call_impl\n",
      "    compiled_fun = xla_callable(fun, device, backend, name, donated_invars,\n",
      "  File \"c:\\Users\\rouss\\miniconda3\\envs\\tf\\lib\\site-packages\\jax\\linear_util.py\", line 286, in memoized_fun\n",
      "    ans = call(fun, *args)\n",
      "  File \"c:\\Users\\rouss\\miniconda3\\envs\\tf\\lib\\site-packages\\jax\\_src\\dispatch.py\", line 245, in _xla_callable_uncached\n",
      "    return lower_xla_callable(fun, device, backend, name, donated_invars, False,\n",
      "  File \"c:\\Users\\rouss\\miniconda3\\envs\\tf\\lib\\site-packages\\jax\\_src\\profiler.py\", line 312, in wrapper\n",
      "    return func(*args, **kwargs)\n",
      "  File \"c:\\Users\\rouss\\miniconda3\\envs\\tf\\lib\\site-packages\\jax\\_src\\dispatch.py\", line 290, in lower_xla_callable\n",
      "    jaxpr, out_type, consts = pe.trace_to_jaxpr_final2(\n",
      "  File \"c:\\Users\\rouss\\miniconda3\\envs\\tf\\lib\\site-packages\\jax\\_src\\profiler.py\", line 312, in wrapper\n",
      "    return func(*args, **kwargs)\n",
      "  File \"c:\\Users\\rouss\\miniconda3\\envs\\tf\\lib\\site-packages\\jax\\interpreters\\partial_eval.py\", line 1959, in trace_to_jaxpr_final2\n",
      "    jaxpr, out_type, consts = trace_to_subjaxpr_dynamic2(fun, main)\n",
      "  File \"c:\\Users\\rouss\\miniconda3\\envs\\tf\\lib\\site-packages\\jax\\interpreters\\partial_eval.py\", line 1920, in trace_to_subjaxpr_dynamic2\n",
      "    ans = fun.call_wrapped(*in_tracers_)\n",
      "  File \"c:\\Users\\rouss\\miniconda3\\envs\\tf\\lib\\site-packages\\jax\\linear_util.py\", line 168, in call_wrapped\n",
      "    ans = self.f(*args, **dict(self.params, **kwargs))\n",
      "  File \"C:\\Users\\rouss\\AppData\\Local\\Temp\\ipykernel_23232\\1857410623.py\", line 14, in rhs_operator_u\n",
      "    lap_u = laplacian(x, u, cloud, rbf=RBF, max_degree=MAX_DEGREE)\n",
      "  File \"c:\\users\\rouss\\projects\\updec\\updec\\operators.py\", line 112, in laplacian\n",
      "    for j in range(lambdas.shape[0]):\n",
      "  File \"c:\\Users\\rouss\\miniconda3\\envs\\tf\\lib\\site-packages\\jax\\core.py\", line 603, in __bool__\n",
      "    def __bool__(self): return self.aval._bool(self)\n",
      "  File \"c:\\Users\\rouss\\miniconda3\\envs\\tf\\lib\\site-packages\\jax\\core.py\", line 1171, in error\n",
      "    raise ConcretizationTypeError(arg, fname_context)\n",
      "jax._src.errors.ConcretizationTypeError: Abstract tracer value encountered where concrete value is expected: Traced<ShapedArray(bool[])>with<DynamicJaxprTrace(level=0/1)>\n",
      "The problem arose with the `bool` function. \n",
      "While tracing the function rhs_operator_u at C:\\Users\\rouss\\AppData\\Local\\Temp\\ipykernel_23232\\1857410623.py:12 for jit, this concrete value was not available in Python because it depends on the value of the argument 'x'.\n",
      "\n",
      "See https://jax.readthedocs.io/en/latest/errors.html#jax.errors.ConcretizationTypeError\n",
      "\n",
      "During handling of the above exception, another exception occurred:\n",
      "\n",
      "Traceback (most recent call last):\n",
      "  File \"c:\\Users\\rouss\\miniconda3\\envs\\tf\\lib\\site-packages\\IPython\\core\\interactiveshell.py\", line 2052, in showtraceback\n",
      "    stb = self.InteractiveTB.structured_traceback(\n",
      "  File \"c:\\Users\\rouss\\miniconda3\\envs\\tf\\lib\\site-packages\\IPython\\core\\ultratb.py\", line 1118, in structured_traceback\n",
      "    return FormattedTB.structured_traceback(\n",
      "  File \"c:\\Users\\rouss\\miniconda3\\envs\\tf\\lib\\site-packages\\IPython\\core\\ultratb.py\", line 1012, in structured_traceback\n",
      "    return VerboseTB.structured_traceback(\n",
      "  File \"c:\\Users\\rouss\\miniconda3\\envs\\tf\\lib\\site-packages\\IPython\\core\\ultratb.py\", line 865, in structured_traceback\n",
      "    formatted_exception = self.format_exception_as_a_whole(etype, evalue, etb, number_of_lines_of_context,\n",
      "  File \"c:\\Users\\rouss\\miniconda3\\envs\\tf\\lib\\site-packages\\IPython\\core\\ultratb.py\", line 818, in format_exception_as_a_whole\n",
      "    frames.append(self.format_record(r))\n",
      "  File \"c:\\Users\\rouss\\miniconda3\\envs\\tf\\lib\\site-packages\\IPython\\core\\ultratb.py\", line 736, in format_record\n",
      "    result += ''.join(_format_traceback_lines(frame_info.lines, Colors, self.has_colors, lvals))\n",
      "  File \"c:\\Users\\rouss\\miniconda3\\envs\\tf\\lib\\site-packages\\stack_data\\utils.py\", line 144, in cached_property_wrapper\n",
      "    value = obj.__dict__[self.func.__name__] = self.func(obj)\n",
      "  File \"c:\\Users\\rouss\\miniconda3\\envs\\tf\\lib\\site-packages\\stack_data\\core.py\", line 734, in lines\n",
      "    pieces = self.included_pieces\n",
      "  File \"c:\\Users\\rouss\\miniconda3\\envs\\tf\\lib\\site-packages\\stack_data\\utils.py\", line 144, in cached_property_wrapper\n",
      "    value = obj.__dict__[self.func.__name__] = self.func(obj)\n",
      "  File \"c:\\Users\\rouss\\miniconda3\\envs\\tf\\lib\\site-packages\\stack_data\\core.py\", line 681, in included_pieces\n",
      "    pos = scope_pieces.index(self.executing_piece)\n",
      "  File \"c:\\Users\\rouss\\miniconda3\\envs\\tf\\lib\\site-packages\\stack_data\\utils.py\", line 144, in cached_property_wrapper\n",
      "    value = obj.__dict__[self.func.__name__] = self.func(obj)\n",
      "  File \"c:\\Users\\rouss\\miniconda3\\envs\\tf\\lib\\site-packages\\stack_data\\core.py\", line 660, in executing_piece\n",
      "    return only(\n",
      "  File \"c:\\Users\\rouss\\miniconda3\\envs\\tf\\lib\\site-packages\\executing\\executing.py\", line 190, in only\n",
      "    raise NotOneValueFound('Expected one value, found 0')\n",
      "executing.executing.NotOneValueFound: Expected one value, found 0\n"
     ]
    }
   ],
   "source": [
    "u = jnp.ones((cloud.N,))\n",
    "v = jnp.ones((cloud.N,))\n",
    "p = jnp.ones((cloud.N,))\n",
    "RHO = 1\n",
    "NU = 1\n",
    "\n",
    "def diff_operator_u(x, node=None, monomial=None, *args):\n",
    "    u_val = nodal_value(x, node, monomial, rbf=RBF)\n",
    "    grad_u = nodal_gradient(x, node, monomial, rbf=RBF)\n",
    "    return  u_val * grad_u[0] + args[0]*grad_u[1]\n",
    "\n",
    "def rhs_operator_u(x):\n",
    "    grad_p = gradient(x, p, cloud, rbf=RBF, max_degree=MAX_DEGREE)\n",
    "    lap_u = laplacian(x, u, cloud, rbf=RBF, max_degree=MAX_DEGREE)\n",
    "    return  (-grad_p[0] / RHO) + (NU * lap_u)\n",
    "\n",
    "u = pde_solver(diff_operator_u, rhs_operator_u, cloud, boundary_conditions, RBF, MAX_DEGREE, v)"
   ]
  },
  {
   "cell_type": "code",
   "execution_count": null,
   "metadata": {},
   "outputs": [
    {
     "name": "stdout",
     "output_type": "stream",
     "text": [
      "Unexpected exception formatting exception. Falling back to standard exception\n"
     ]
    },
    {
     "name": "stderr",
     "output_type": "stream",
     "text": [
      "Traceback (most recent call last):\n",
      "  File \"c:\\Users\\rouss\\miniconda3\\envs\\tf\\lib\\site-packages\\IPython\\core\\interactiveshell.py\", line 3433, in run_code\n",
      "    exec(code_obj, self.user_global_ns, self.user_ns)\n",
      "  File \"C:\\Users\\rouss\\AppData\\Local\\Temp\\ipykernel_23232\\2375313411.py\", line 11, in <module>\n",
      "    v = pde_solver(diff_operator_v, rhs_operator_v, cloud, boundary_conditions, RBF, MAX_DEGREE, u)\n",
      "  File \"c:\\users\\rouss\\projects\\updec\\updec\\operators.py\", line 138, in pde_solver\n",
      "  File \"c:\\users\\rouss\\projects\\updec\\updec\\assembly.py\", line 151, in assemble_q\n",
      "    q = q.at[i].set(operator(cloud.nodes[i]))\n",
      "  File \"c:\\Users\\rouss\\miniconda3\\envs\\tf\\lib\\site-packages\\jax\\_src\\traceback_util.py\", line 162, in reraise_with_filtered_traceback\n",
      "    return fun(*args, **kwargs)\n",
      "  File \"c:\\Users\\rouss\\miniconda3\\envs\\tf\\lib\\site-packages\\jax\\_src\\api.py\", line 522, in cache_miss\n",
      "    out_flat = xla.xla_call(\n",
      "  File \"c:\\Users\\rouss\\miniconda3\\envs\\tf\\lib\\site-packages\\jax\\core.py\", line 1836, in bind\n",
      "    return call_bind(self, fun, *args, **params)\n",
      "  File \"c:\\Users\\rouss\\miniconda3\\envs\\tf\\lib\\site-packages\\jax\\core.py\", line 1852, in call_bind\n",
      "    outs = top_trace.process_call(primitive, fun_, tracers, params)\n",
      "  File \"c:\\Users\\rouss\\miniconda3\\envs\\tf\\lib\\site-packages\\jax\\core.py\", line 683, in process_call\n",
      "    return primitive.impl(f, *tracers, **params)\n",
      "  File \"c:\\Users\\rouss\\miniconda3\\envs\\tf\\lib\\site-packages\\jax\\_src\\dispatch.py\", line 196, in _xla_call_impl\n",
      "    compiled_fun = xla_callable(fun, device, backend, name, donated_invars,\n",
      "  File \"c:\\Users\\rouss\\miniconda3\\envs\\tf\\lib\\site-packages\\jax\\linear_util.py\", line 286, in memoized_fun\n",
      "    ans = call(fun, *args)\n",
      "  File \"c:\\Users\\rouss\\miniconda3\\envs\\tf\\lib\\site-packages\\jax\\_src\\dispatch.py\", line 245, in _xla_callable_uncached\n",
      "    return lower_xla_callable(fun, device, backend, name, donated_invars, False,\n",
      "  File \"c:\\Users\\rouss\\miniconda3\\envs\\tf\\lib\\site-packages\\jax\\_src\\profiler.py\", line 312, in wrapper\n",
      "    return func(*args, **kwargs)\n",
      "  File \"c:\\Users\\rouss\\miniconda3\\envs\\tf\\lib\\site-packages\\jax\\_src\\dispatch.py\", line 290, in lower_xla_callable\n",
      "    jaxpr, out_type, consts = pe.trace_to_jaxpr_final2(\n",
      "  File \"c:\\Users\\rouss\\miniconda3\\envs\\tf\\lib\\site-packages\\jax\\_src\\profiler.py\", line 312, in wrapper\n",
      "    return func(*args, **kwargs)\n",
      "  File \"c:\\Users\\rouss\\miniconda3\\envs\\tf\\lib\\site-packages\\jax\\interpreters\\partial_eval.py\", line 1959, in trace_to_jaxpr_final2\n",
      "    jaxpr, out_type, consts = trace_to_subjaxpr_dynamic2(fun, main)\n",
      "  File \"c:\\Users\\rouss\\miniconda3\\envs\\tf\\lib\\site-packages\\jax\\interpreters\\partial_eval.py\", line 1920, in trace_to_subjaxpr_dynamic2\n",
      "    ans = fun.call_wrapped(*in_tracers_)\n",
      "  File \"c:\\Users\\rouss\\miniconda3\\envs\\tf\\lib\\site-packages\\jax\\linear_util.py\", line 168, in call_wrapped\n",
      "    ans = self.f(*args, **dict(self.params, **kwargs))\n",
      "  File \"C:\\Users\\rouss\\AppData\\Local\\Temp\\ipykernel_23232\\2375313411.py\", line 8, in rhs_operator_v\n",
      "    lap_v = laplacian(x, v, cloud, rbf=RBF, max_degree=MAX_DEGREE)\n",
      "  File \"c:\\users\\rouss\\projects\\updec\\updec\\operators.py\", line 112, in laplacian\n",
      "    for j in range(lambdas.shape[0]):\n",
      "  File \"c:\\Users\\rouss\\miniconda3\\envs\\tf\\lib\\site-packages\\jax\\core.py\", line 603, in __bool__\n",
      "    def __bool__(self): return self.aval._bool(self)\n",
      "  File \"c:\\Users\\rouss\\miniconda3\\envs\\tf\\lib\\site-packages\\jax\\core.py\", line 1171, in error\n",
      "    raise ConcretizationTypeError(arg, fname_context)\n",
      "jax._src.errors.ConcretizationTypeError: Abstract tracer value encountered where concrete value is expected: Traced<ShapedArray(bool[])>with<DynamicJaxprTrace(level=0/1)>\n",
      "The problem arose with the `bool` function. \n",
      "While tracing the function rhs_operator_v at C:\\Users\\rouss\\AppData\\Local\\Temp\\ipykernel_23232\\2375313411.py:6 for jit, this concrete value was not available in Python because it depends on the value of the argument 'x'.\n",
      "\n",
      "See https://jax.readthedocs.io/en/latest/errors.html#jax.errors.ConcretizationTypeError\n",
      "\n",
      "During handling of the above exception, another exception occurred:\n",
      "\n",
      "Traceback (most recent call last):\n",
      "  File \"c:\\Users\\rouss\\miniconda3\\envs\\tf\\lib\\site-packages\\IPython\\core\\interactiveshell.py\", line 2052, in showtraceback\n",
      "    stb = self.InteractiveTB.structured_traceback(\n",
      "  File \"c:\\Users\\rouss\\miniconda3\\envs\\tf\\lib\\site-packages\\IPython\\core\\ultratb.py\", line 1118, in structured_traceback\n",
      "    return FormattedTB.structured_traceback(\n",
      "  File \"c:\\Users\\rouss\\miniconda3\\envs\\tf\\lib\\site-packages\\IPython\\core\\ultratb.py\", line 1012, in structured_traceback\n",
      "    return VerboseTB.structured_traceback(\n",
      "  File \"c:\\Users\\rouss\\miniconda3\\envs\\tf\\lib\\site-packages\\IPython\\core\\ultratb.py\", line 865, in structured_traceback\n",
      "    formatted_exception = self.format_exception_as_a_whole(etype, evalue, etb, number_of_lines_of_context,\n",
      "  File \"c:\\Users\\rouss\\miniconda3\\envs\\tf\\lib\\site-packages\\IPython\\core\\ultratb.py\", line 818, in format_exception_as_a_whole\n",
      "    frames.append(self.format_record(r))\n",
      "  File \"c:\\Users\\rouss\\miniconda3\\envs\\tf\\lib\\site-packages\\IPython\\core\\ultratb.py\", line 736, in format_record\n",
      "    result += ''.join(_format_traceback_lines(frame_info.lines, Colors, self.has_colors, lvals))\n",
      "  File \"c:\\Users\\rouss\\miniconda3\\envs\\tf\\lib\\site-packages\\stack_data\\utils.py\", line 144, in cached_property_wrapper\n",
      "    value = obj.__dict__[self.func.__name__] = self.func(obj)\n",
      "  File \"c:\\Users\\rouss\\miniconda3\\envs\\tf\\lib\\site-packages\\stack_data\\core.py\", line 734, in lines\n",
      "    pieces = self.included_pieces\n",
      "  File \"c:\\Users\\rouss\\miniconda3\\envs\\tf\\lib\\site-packages\\stack_data\\utils.py\", line 144, in cached_property_wrapper\n",
      "    value = obj.__dict__[self.func.__name__] = self.func(obj)\n",
      "  File \"c:\\Users\\rouss\\miniconda3\\envs\\tf\\lib\\site-packages\\stack_data\\core.py\", line 681, in included_pieces\n",
      "    pos = scope_pieces.index(self.executing_piece)\n",
      "  File \"c:\\Users\\rouss\\miniconda3\\envs\\tf\\lib\\site-packages\\stack_data\\utils.py\", line 144, in cached_property_wrapper\n",
      "    value = obj.__dict__[self.func.__name__] = self.func(obj)\n",
      "  File \"c:\\Users\\rouss\\miniconda3\\envs\\tf\\lib\\site-packages\\stack_data\\core.py\", line 660, in executing_piece\n",
      "    return only(\n",
      "  File \"c:\\Users\\rouss\\miniconda3\\envs\\tf\\lib\\site-packages\\executing\\executing.py\", line 190, in only\n",
      "    raise NotOneValueFound('Expected one value, found 0')\n",
      "executing.executing.NotOneValueFound: Expected one value, found 0\n"
     ]
    }
   ],
   "source": [
    "def diff_operator_v(x, node=None, monomial=None, *args):\n",
    "    val_v = nodal_value(x, node, monomial, rbf=RBF)\n",
    "    grad_v = nodal_gradient(x, node, monomial, rbf=RBF)\n",
    "    return  val_v * grad_v[1] + args[0]*grad_v[0]\n",
    "\n",
    "def rhs_operator_v(x):\n",
    "    grad_p = gradient(x, p, cloud, rbf=RBF, max_degree=MAX_DEGREE)\n",
    "    lap_v = laplacian(x, v, cloud, rbf=RBF, max_degree=MAX_DEGREE)\n",
    "    return  (-grad_p[0] / RHO) + (NU * lap_v)\n",
    "\n",
    "v = pde_solver(diff_operator_v, rhs_operator_v, cloud, boundary_conditions, RBF, MAX_DEGREE, u)"
   ]
  },
  {
   "cell_type": "code",
   "execution_count": null,
   "metadata": {},
   "outputs": [
    {
     "ename": "",
     "evalue": "",
     "output_type": "error",
     "traceback": [
      "\u001b[1;31mCanceled future for execute_request message before replies were done"
     ]
    },
    {
     "ename": "",
     "evalue": "",
     "output_type": "error",
     "traceback": [
      "\u001b[1;31mThe Kernel crashed while executing code in the the current cell or a previous cell. Please review the code in the cell(s) to identify a possible cause of the failure. Click <a href='https://aka.ms/vscodeJupyterKernelCrash'>here</a> for more info. View Jupyter <a href='command:jupyter.viewOutput'>log</a> for further details."
     ]
    }
   ],
   "source": [
    "def diff_operator_p(x, node=None, monomial=None, *args):\n",
    "    return  nodal_laplacian(x, node, monomial, rbf=RBF)\n",
    "\n",
    "def rhs_operator_p(x):\n",
    "    grad_u = gradient(x, u, cloud, rbf=RBF, max_degree=MAX_DEGREE)\n",
    "    grad_v = gradient(x, v, cloud, rbf=RBF, max_degree=MAX_DEGREE)\n",
    "    return  -RHO * (grad_u[0]*grad_u[0] + 2*grad_u[1]*grad_v[0] + grad_v[1]*grad_v[1])\n",
    "\n",
    "p = pde_solver(diff_operator_p, rhs_operator_p, cloud, boundary_conditions, RBF, MAX_DEGREE)"
   ]
  },
  {
   "cell_type": "code",
   "execution_count": null,
   "metadata": {},
   "outputs": [
    {
     "data": {
      "text/plain": [
       "DeviceArray([ 3.43987267e-05,  5.02347029e-05,  1.77235852e-05,\n",
       "              4.21552286e-05,  7.25919963e-05,  1.02212027e-04,\n",
       "              4.84139127e-05,  7.90406048e-05,  3.12962038e-05,\n",
       "              4.59972325e-05,  7.88823963e-05,  1.10663168e-04,\n",
       "              5.11429571e-05,  4.93236039e-05,  1.64158282e-05,\n",
       "             -3.39346928e-09, -5.96568850e-10,  7.02823855e-10,\n",
       "             -1.12327626e-10, -1.49707047e-09, -2.02795847e-09,\n",
       "             -8.47910242e-10,  1.36489797e-09, -4.19683788e-10,\n",
       "             -5.40400558e-10,  3.88464511e-10,  3.60169394e-10,\n",
       "              3.32175981e-10,  4.27257269e-13, -8.30774546e-11,\n",
       "              6.05548806e-11, -1.14289515e-10, -1.28116309e-10,\n",
       "             -8.39520554e-12, -2.75494488e-11], dtype=float32)"
      ]
     },
     "execution_count": 12,
     "metadata": {},
     "output_type": "execute_result"
    }
   ],
   "source": [
    "u"
   ]
  },
  {
   "cell_type": "code",
   "execution_count": null,
   "metadata": {},
   "outputs": [
    {
     "data": {
      "image/png": "[encoded data removed]",
      "text/plain": [
       "<Figure size 600x500 with 2 Axes>"
      ]
     },
     "metadata": {},
     "output_type": "display_data"
    }
   ],
   "source": [
    "cloud.visualize_field(v, cmap=\"viridis\", projection=\"2d\", ax=None, figsize=(6,5));"
   ]
  }
 ],
 "metadata": {
  "kernelspec": {
   "display_name": "tf",
   "language": "python",
   "name": "python3"
  },
  "language_info": {
   "codemirror_mode": {
    "name": "ipython",
    "version": 3
   },
   "file_extension": ".py",
   "mimetype": "text/x-python",
   "name": "python",
   "nbconvert_exporter": "python",
   "pygments_lexer": "ipython3",
   "version": "3.9.7"
  },
  "orig_nbformat": 4,
  "vscode": {
   "interpreter": {
    "hash": "adeea38ee076cc2749b63394508803be22d87681fb775a90e120ceeee3e12142"
   }
  }
 },
 "nbformat": 4,
 "nbformat_minor": 2
}
