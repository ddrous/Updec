{
 "cells": [
  {
   "cell_type": "code",
   "execution_count": 2,
   "metadata": {},
   "outputs": [],
   "source": [
    "%reset -f\n",
    "\n",
    "import jax\n",
    "import jax.numpy as jnp\n",
    "\n",
    "from updec.utils import polyharmonic, multiquadric\n",
    "from updec.operators import *"
   ]
  },
  {
   "cell_type": "code",
   "execution_count": 3,
   "metadata": {},
   "outputs": [
    {
     "name": "stdout",
     "output_type": "stream",
     "text": [
      "\n",
      "=== Meshfree cloud for RBF method ===\n",
      "\n",
      "\n",
      "Cloud bounding box: Nx = 7  -  Ny = 5\n",
      "\n",
      "Boundary types (0=internal, 1=dirichlet, 2=neumann):\n",
      " {15: 1, 16: 1, 17: 1, 18: 1, 19: 1, 20: 1, 0: 0, 1: 0, 2: 0, 21: 1, 22: 1, 3: 0, 4: 0, 5: 0, 23: 1, 24: 1, 6: 0, 7: 0, 8: 0, 25: 1, 26: 1, 9: 0, 10: 0, 11: 0, 27: 1, 28: 1, 12: 0, 13: 0, 14: 0, 29: 1, 30: 1, 32: 2, 33: 2, 34: 2, 31: 1}\n",
      "Number of: \n",
      "\t-Internal points: M = 15 \n",
      "\t-Dirichlet points: MD = 17 \n",
      "\t-Neumann points: MN = 3\n",
      "Surfaces:\n",
      " {15: 2, 16: 2, 17: 2, 18: 2, 19: 2, 20: 1, 0: 0, 1: 0, 2: 0, 21: 3, 22: 1, 3: 0, 4: 0, 5: 0, 23: 3, 24: 1, 6: 0, 7: 0, 8: 0, 25: 3, 26: 1, 9: 0, 10: 0, 11: 0, 27: 3, 28: 1, 12: 0, 13: 0, 14: 0, 29: 3, 30: 1, 32: 4, 33: 4, 34: 4, 31: 3}\n",
      "\n",
      "Global indices:\n",
      " [[15 16 17 18 19]\n",
      " [20  0  1  2 21]\n",
      " [22  3  4  5 23]\n",
      " [24  6  7  8 25]\n",
      " [26  9 10 11 27]\n",
      " [28 12 13 14 29]\n",
      " [30 32 33 34 31]]\n",
      "\n",
      "Outward normals on Neumann boundaries:\n",
      "\t 32 : [1. 0.]\n",
      "\t 33 : [1. 0.]\n",
      "\t 34 : [1. 0.]\n",
      "\n",
      "Node coordinates:\n",
      "\t 15 : [0. 0.]\n",
      "\t 16 : [0.   0.25]\n",
      "\t 17 : [0.  0.5]\n",
      "\t 18 : [0.   0.75]\n",
      "\t 19 : [0. 1.]\n",
      "\t 20 : [0.16666667 0.        ]\n",
      "\t 0 : [0.16666667 0.25      ]\n",
      "\t 1 : [0.16666667 0.5       ]\n",
      "\t 2 : [0.16666667 0.75      ]\n",
      "\t 21 : [0.16666667 1.        ]\n",
      "\t 22 : [0.33333334 0.        ]\n",
      "\t 3 : [0.33333334 0.25      ]\n",
      "\t 4 : [0.33333334 0.5       ]\n",
      "\t 5 : [0.33333334 0.75      ]\n",
      "\t 23 : [0.33333334 1.        ]\n",
      "\t 24 : [0.5 0. ]\n",
      "\t 6 : [0.5  0.25]\n",
      "\t 7 : [0.5 0.5]\n",
      "\t 8 : [0.5  0.75]\n",
      "\t 25 : [0.5 1. ]\n",
      "\t 26 : [0.6666667 0.       ]\n",
      "\t 9 : [0.6666667 0.25     ]\n",
      "\t 10 : [0.6666667 0.5      ]\n",
      "\t 11 : [0.6666667 0.75     ]\n",
      "\t 27 : [0.6666667 1.       ]\n",
      "\t 28 : [0.8333334 0.       ]\n",
      "\t 12 : [0.8333334 0.25     ]\n",
      "\t 13 : [0.8333334 0.5      ]\n",
      "\t 14 : [0.8333334 0.75     ]\n",
      "\t 29 : [0.8333334 1.       ]\n",
      "\t 30 : [1. 0.]\n",
      "\t 32 : [1.   0.25]\n",
      "\t 33 : [1.  0.5]\n",
      "\t 34 : [1.   0.75]\n",
      "\t 31 : [1. 1.]\n",
      "\n",
      "Local supports (n closest neighbours):\n",
      "\t 15 : [20, 16, 0, 22, 3, 17, 24]\n",
      "\t 16 : [0, 15, 17, 20, 1, 3, 22]\n",
      "\t 17 : [1, 16, 18, 0, 2, 4, 3]\n",
      "\t 18 : [2, 17, 19, 1, 21, 5, 4]\n",
      "\t 19 : [21, 18, 2, 23, 5, 17, 25]\n",
      "\t 20 : [15, 22, 0, 16, 3, 24, 6]\n",
      "\t 0 : [16, 3, 20, 1, 15, 17, 22]\n",
      "\t 1 : [17, 4, 0, 2, 16, 18, 3]\n",
      "\t 2 : [18, 5, 1, 21, 17, 19, 4]\n",
      "\t 21 : [19, 23, 2, 18, 5, 25, 8]\n",
      "\t 22 : [24, 20, 3, 0, 6, 15, 26]\n",
      "\t 3 : [6, 0, 22, 4, 20, 1, 24]\n",
      "\t 4 : [7, 1, 3, 5, 0, 2, 6]\n",
      "\t 5 : [8, 2, 4, 23, 1, 21, 7]\n",
      "\t 23 : [25, 21, 5, 2, 8, 19, 27]\n",
      "\t 24 : [22, 26, 6, 3, 9, 20, 28]\n",
      "\t 6 : [3, 9, 24, 7, 22, 4, 26]\n",
      "\t 7 : [4, 10, 6, 8, 3, 5, 9]\n",
      "\t 8 : [5, 11, 7, 25, 4, 23, 10]\n",
      "\t 25 : [23, 27, 8, 5, 11, 21, 29]\n",
      "\t 26 : [24, 28, 9, 6, 12, 30, 22]\n",
      "\t 9 : [6, 12, 26, 10, 24, 7, 28]\n",
      "\t 10 : [7, 13, 9, 11, 6, 8, 12]\n",
      "\t 11 : [8, 14, 10, 27, 7, 25, 13]\n",
      "\t 27 : [25, 29, 11, 8, 14, 31, 23]\n",
      "\t 28 : [30, 26, 12, 32, 9, 24, 6]\n",
      "\t 12 : [32, 9, 28, 13, 30, 33, 26]\n",
      "\t 13 : [33, 10, 12, 14, 32, 34, 9]\n",
      "\t 14 : [34, 11, 13, 29, 33, 31, 10]\n",
      "\t 29 : [31, 27, 14, 34, 11, 25, 8]\n",
      "\t 30 : [28, 32, 12, 26, 9, 24, 33]\n",
      "\t 32 : [12, 30, 33, 28, 13, 9, 26]\n",
      "\t 33 : [13, 32, 34, 12, 14, 10, 9]\n",
      "\t 34 : [14, 33, 31, 13, 29, 11, 10]\n",
      "\t 31 : [29, 34, 14, 27, 11, 25, 33]\n"
     ]
    }
   ],
   "source": [
    "RBF = polyharmonic      ## Can define which rbf to use\n",
    "MAX_DEGREE = 2\n",
    "\n",
    "cloud = Cloud()\n",
    "cloud.print_cloud_properties()"
   ]
  },
  {
   "cell_type": "code",
   "execution_count": 3,
   "metadata": {},
   "outputs": [
    {
     "ename": "TypeError",
     "evalue": "unique requires ndarray or scalar arguments, got <class 'dict_values'> at position 0.",
     "output_type": "error",
     "traceback": [
      "\u001b[0;31m---------------------------------------------------------------------------\u001b[0m",
      "\u001b[0;31mTypeError\u001b[0m                                 Traceback (most recent call last)",
      "Cell \u001b[0;32mIn[3], line 10\u001b[0m\n\u001b[1;32m      7\u001b[0m \u001b[39mdef\u001b[39;00m \u001b[39mmy_rhs_operator\u001b[39m(x):\n\u001b[1;32m      8\u001b[0m     \u001b[39mreturn\u001b[39;00m divergence(x, known_field, cloud, rbf\u001b[39m=\u001b[39mRBF, max_degree\u001b[39m=\u001b[39m\u001b[39m2\u001b[39m)\n\u001b[0;32m---> 10\u001b[0m all_surfaces \u001b[39m=\u001b[39m jnp\u001b[39m.\u001b[39;49munique(cloud\u001b[39m.\u001b[39;49msurfaces\u001b[39m.\u001b[39;49mvalues())\n\u001b[1;32m     11\u001b[0m boundary_functions \u001b[39m=\u001b[39m {}\n\u001b[1;32m     12\u001b[0m \u001b[39mfor\u001b[39;00m i \u001b[39min\u001b[39;00m all_surfaces:\n",
      "File \u001b[0;32m~/miniconda3/envs/jaxenv/lib/python3.9/site-packages/jax/_src/numpy/setops.py:325\u001b[0m, in \u001b[0;36munique\u001b[0;34m(ar, return_index, return_inverse, return_counts, axis, size, fill_value)\u001b[0m\n\u001b[1;32m    308\u001b[0m \u001b[39m@_wraps\u001b[39m(np\u001b[39m.\u001b[39munique, skip_params\u001b[39m=\u001b[39m[\u001b[39m'\u001b[39m\u001b[39maxis\u001b[39m\u001b[39m'\u001b[39m],\n\u001b[1;32m    309\u001b[0m   lax_description\u001b[39m=\u001b[39m_dedent(\u001b[39m\"\"\"\u001b[39m\n\u001b[1;32m    310\u001b[0m \u001b[39m    Because the size of the output of ``unique`` is data-dependent, the function is not\u001b[39m\n\u001b[0;32m   (...)\u001b[0m\n\u001b[1;32m    323\u001b[0m            return_counts: \u001b[39mbool\u001b[39m \u001b[39m=\u001b[39m \u001b[39mFalse\u001b[39;00m, axis: Optional[\u001b[39mint\u001b[39m] \u001b[39m=\u001b[39m \u001b[39mNone\u001b[39;00m,\n\u001b[1;32m    324\u001b[0m            \u001b[39m*\u001b[39m, size: Optional[\u001b[39mint\u001b[39m] \u001b[39m=\u001b[39m \u001b[39mNone\u001b[39;00m, fill_value: Optional[ArrayLike] \u001b[39m=\u001b[39m \u001b[39mNone\u001b[39;00m):\n\u001b[0;32m--> 325\u001b[0m   _check_arraylike(\u001b[39m\"\u001b[39;49m\u001b[39munique\u001b[39;49m\u001b[39m\"\u001b[39;49m, ar)\n\u001b[1;32m    326\u001b[0m   \u001b[39mif\u001b[39;00m size \u001b[39mis\u001b[39;00m \u001b[39mNone\u001b[39;00m:\n\u001b[1;32m    327\u001b[0m     ar \u001b[39m=\u001b[39m core\u001b[39m.\u001b[39mconcrete_or_error(\u001b[39mNone\u001b[39;00m, ar,\n\u001b[1;32m    328\u001b[0m         \u001b[39m\"\u001b[39m\u001b[39mThe error arose for the first argument of jnp.unique(). \u001b[39m\u001b[39m\"\u001b[39m \u001b[39m+\u001b[39m UNIQUE_SIZE_HINT)\n",
      "File \u001b[0;32m~/miniconda3/envs/jaxenv/lib/python3.9/site-packages/jax/_src/numpy/util.py:345\u001b[0m, in \u001b[0;36m_check_arraylike\u001b[0;34m(fun_name, *args)\u001b[0m\n\u001b[1;32m    342\u001b[0m pos, arg \u001b[39m=\u001b[39m \u001b[39mnext\u001b[39m((i, arg) \u001b[39mfor\u001b[39;00m i, arg \u001b[39min\u001b[39;00m \u001b[39menumerate\u001b[39m(args)\n\u001b[1;32m    343\u001b[0m                 \u001b[39mif\u001b[39;00m \u001b[39mnot\u001b[39;00m _arraylike(arg))\n\u001b[1;32m    344\u001b[0m msg \u001b[39m=\u001b[39m \u001b[39m\"\u001b[39m\u001b[39m{}\u001b[39;00m\u001b[39m requires ndarray or scalar arguments, got \u001b[39m\u001b[39m{}\u001b[39;00m\u001b[39m at position \u001b[39m\u001b[39m{}\u001b[39;00m\u001b[39m.\u001b[39m\u001b[39m\"\u001b[39m\n\u001b[0;32m--> 345\u001b[0m \u001b[39mraise\u001b[39;00m \u001b[39mTypeError\u001b[39;00m(msg\u001b[39m.\u001b[39mformat(fun_name, \u001b[39mtype\u001b[39m(arg), pos))\n",
      "\u001b[0;31mTypeError\u001b[0m: unique requires ndarray or scalar arguments, got <class 'dict_values'> at position 0."
     ]
    }
   ],
   "source": [
    "## Operates on radial basis functions and polynomials at position x\n",
    "def my_diff_operator(x, node, monomial):\n",
    "    return  -1 * nodal_laplacian(x, node, monomial, rbf=RBF)\n",
    "\n",
    "known_field = jnp.ones((cloud.N, 2))\n",
    "## Operates on entire fields at position x (inside node)\n",
    "def my_rhs_operator(x):\n",
    "    return divergence(x, known_field, cloud, rbf=RBF, max_degree=2)\n",
    "\n",
    "all_surfaces = jnp.unique(cloud.surfaces.values())\n",
    "boundary_functions = {}\n",
    "for i in all_surfaces:\n",
    "    if cloud.surface_types[i] == \"dirichlet\":\n",
    "        boundary_functions[i] = lambda node: 1.\n",
    "    elif cloud.surface_types[i] == \"neumann\":\n",
    "        boundary_functions[i] = lambda node: 0."
   ]
  },
  {
   "cell_type": "code",
   "execution_count": null,
   "metadata": {},
   "outputs": [],
   "source": [
    "unknown_field = pde_solver(my_diff_operator, my_rhs_operator, cloud, boundary_functions, RBF, MAX_DEGREE)\n",
    "unknown_field"
   ]
  }
 ],
 "metadata": {
  "kernelspec": {
   "display_name": "jaxenv",
   "language": "python",
   "name": "python3"
  },
  "language_info": {
   "codemirror_mode": {
    "name": "ipython",
    "version": 3
   },
   "file_extension": ".py",
   "mimetype": "text/x-python",
   "name": "python",
   "nbconvert_exporter": "python",
   "pygments_lexer": "ipython3",
   "version": "3.9.15"
  },
  "orig_nbformat": 4,
  "vscode": {
   "interpreter": {
    "hash": "075710b6f5b19458306a4e9822ddfe61641ef7cace85254f009959072a1d7749"
   }
  }
 },
 "nbformat": 4,
 "nbformat_minor": 2
}
