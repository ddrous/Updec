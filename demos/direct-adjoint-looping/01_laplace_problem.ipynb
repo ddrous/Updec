{
 "cells": [
  {
   "cell_type": "code",
   "execution_count": null,
   "metadata": {},
   "outputs": [],
   "source": [
    "%reset -f\n",
    "\n",
    "import os, sys\n",
    "sys.path.insert(0, os.path.abspath(\"..\"))\n",
    "\n",
    "import jax.numpy as jnp\n",
    "\n",
    "from _utils import plot"
   ]
  },
  {
   "cell_type": "code",
   "execution_count": null,
   "metadata": {},
   "outputs": [],
   "source": [
    "## A simple rectangle regularly discretised\n",
    "class Grid():\n",
    "    def __init__(self, Lx, Ly, Nx, Ny) -> None:\n",
    "        self.Lx = Lx\n",
    "        self.Ly = Ly\n",
    "        self.Nx = Nx\n",
    "        self.Ny = Ny"
   ]
  },
  {
   "cell_type": "code",
   "execution_count": null,
   "metadata": {},
   "outputs": [],
   "source": [
    "## Reshapes a vector into a Julia-ready matrix for representation\n",
    "def vec2mat(U, N, M):\n",
    "    return jnp.reshape(U, (N,M))\n",
    "\n",
    "## Flattens a matrix into a Julia-ready vector for computation\n",
    "def mat2vec(u):\n",
    "    return jnp.reshape(u, (jnp.size(u), -1), order='C')\n",
    "\n",
    "## Arranges a Julia-ready matrix into a 2D tensor suitable for human visualisation\n",
    "def mat2plane(u):\n",
    "    return jnp.flip(u.T)"
   ]
  },
  {
   "cell_type": "code",
   "execution_count": null,
   "metadata": {},
   "outputs": [],
   "source": [
    "## A struct to hold out Poisson problem attributes\n",
    "class Poisson():\n",
    "    def __init__(self, u, f, Ny) -> None:\n",
    "        self.u = u      ## Boundary conditions are already imposed.\n",
    "        self.f = f"
   ]
  }
 ],
 "metadata": {
  "kernelspec": {
   "display_name": "jaxenv",
   "language": "python",
   "name": "python3"
  },
  "language_info": {
   "name": "python",
   "version": "3.10.8 | packaged by conda-forge | (main, Nov 22 2022, 08:25:13) [Clang 14.0.6 ]"
  },
  "orig_nbformat": 4,
  "vscode": {
   "interpreter": {
    "hash": "8172ebf40a1b5495b14df1ebdc40c339972f6d826997aae164f4bf169121d865"
   }
  }
 },
 "nbformat": 4,
 "nbformat_minor": 2
}
